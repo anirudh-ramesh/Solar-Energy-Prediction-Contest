{
 "metadata": {
  "name": "Visualization"
 },
 "nbformat": 3,
 "nbformat_minor": 0,
 "worksheets": [
  {
   "cells": [
    {
     "cell_type": "code",
     "collapsed": false,
     "input": [
      "import numpy as np\n",
      "import matplotlib.pyplot as plt\n",
      "from datetime import date\n",
      "import pandas as pd\n",
      "def compileData(fn = \"E:/kaggle/Solar/gefs_test/test/train.csv\"):\n",
      "    data = pd.read_csv(fn, parse_dates = True, index_col=[0])\n",
      "    return data\n",
      "start = date(1994,01,01)\n",
      "end = date(2007,12,31)\n",
      "rng = pd.date_range(start,end,freq=pd.DateOffset(years=1))\n",
      "dat = compileData()\n",
      "dat_predict = compileData('E:/kaggle/Solar/scikit/submission_131026_scikit_GBR_ready_for_submitting.csv')\n",
      "dat_predict1 = compileData('C:/Users/Administrator/Documents/Java_Proj/eclipse/python/solar/src/sol/final_sub.csv')\n",
      "grouped_month_pred1 = dat_predict1.groupby(lambda x: x.month)\n",
      "grouped_month_pred1_mean = grouped_month_pred1.mean()\n",
      "\n",
      "grouped_month_pred = dat_predict.groupby(lambda x: x.month)\n",
      "grouped_month_pred_mean = grouped_month_pred.mean()\n",
      "\n",
      "grouped_year = dat.groupby(lambda x: x.year)\n",
      "grouped_year_mean = grouped_year.mean()\n",
      "grouped_month = dat.groupby(lambda x: x.month)\n",
      "grouped_month_mean = grouped_month.mean()\n",
      "grouped_quarter_mean = dat.resample('Q-DEC')\n",
      "grouped_week_mean = dat.resample('W-SUN')"
     ],
     "language": "python",
     "metadata": {},
     "outputs": []
    },
    {
     "cell_type": "code",
     "collapsed": false,
     "input": [
      "# Enery per Quarter in 1994 - 2007 timespan\n",
      "nrows = 7\n",
      "ncols = 8\n",
      "quarters = ['1st quarter','2nd quarter','3rd quarter','4th quarter']\n",
      "stns = range(98)\n",
      "fig, ax = plt.subplots(nrows,ncols,sharey='row',sharex='col')\n",
      "fig.suptitle(\"Energy Produced by Stations in Quarters of 1994 - 2007 Timespan\", color = \"green\", fontsize = 20)\n",
      "for i in range(nrows):\n",
      "    for j in range(ncols):\n",
      "  #      ax[i,j].scatter(stns,grouped_quarter.iloc[ncols * i+j,:],s=10,c='r')\n",
      "        ax[i,j].plot(stns,grouped_quarter_mean.iloc[ncols * i+j,:])\n",
      "        xticks = ax[i,j].get_xticks()\n",
      "        ax[i,j].set_xticks(stns[1::30])\n",
      "        yticks = ax[i,j].get_yticks()\n",
      "        ax[i,j].set_yticklabels(map(lambda x: '%iK' % x, yticks/1000))\n",
      "        ax[i,j].text(1,1,quarters[j] if j < 4 else quarters[j - 4], fontsize = 10,\\\n",
      "            ha='right', va='bottom', transform = ax[i,j].transAxes)\n",
      "\n",
      "#ax.xlabel(\"Station number\")\n",
      "big_ax = fig.add_subplot(111)\n",
      "big_ax.set_axis_bgcolor('none')\n",
      "big_ax.tick_params(labelcolor='none',top='off',bottom='off',left='off',right='off')\n",
      "big_ax.set_frame_on(False)\n",
      "big_ax.set_xlabel('Stations (Total 98)')\n",
      "big_ax.set_ylabel('Produced Energy per Quarter(Wt)', labelpad = 30)\n",
      "plt.show()"
     ],
     "language": "python",
     "metadata": {},
     "outputs": []
    },
    {
     "cell_type": "code",
     "collapsed": false,
     "input": [
      "#Mean Energy Per Month in 1994 - 2007\n",
      "import matplotlib.pyplot as plt\n",
      "nrows = 2\n",
      "ncols = 6\n",
      "months = grouped_month_mean.index\n",
      "stns = range(98)\n",
      "fig, ax = plt.subplots(nrows,ncols,sharey='row')\n",
      "fig.suptitle(\"Mean Energy Per Month in 1994 - 2007\", color = \"green\", fontsize = 20)\n",
      "for i in range(nrows):\n",
      "    for j in range(ncols):\n",
      "        ax[i,j].scatter(stns,grouped_month_pred1_mean.iloc[ncols * i+j,:],s=50,c='r')\n",
      "        xticks = ax[i,j].get_xticks()\n",
      "        ax[i,j].set_xticks(stns[1::30])\n",
      "        yticks = ax[i,j].get_yticks()\n",
      "        ax[i,j].set_yticklabels(map(lambda x: '%iK' % x, yticks/1000))\n",
      "        ax[i,j].text(1,1,'%s'%months[ncols * i+j],ha='right', va='bottom', transform = ax[i,j].transAxes)\n",
      "\n",
      "#ax.xlabel(\"Station number\")\n",
      "big_ax = fig.add_subplot(111)\n",
      "big_ax.set_axis_bgcolor('none')\n",
      "big_ax.tick_params(labelcolor='none',top='off',bottom='off',left='off',right='off')\n",
      "big_ax.set_frame_on(False)\n",
      "big_ax.set_xlabel('Stations (Total 98)')\n",
      "big_ax.set_ylabel('Produced Energy per Year (Wt)', labelpad = 30)\n",
      "plt.show()"
     ],
     "language": "python",
     "metadata": {},
     "outputs": []
    },
    {
     "cell_type": "code",
     "collapsed": false,
     "input": [
      "# Energy output for all 98 stations during 1994 - 2007\n",
      "for i in grouped_year_mean.columns:\n",
      "    plt.plot(grouped_year_mean.index,grouped_year_mean[i])\n",
      "plt.show()  "
     ],
     "language": "python",
     "metadata": {},
     "outputs": []
    },
    {
     "cell_type": "code",
     "collapsed": false,
     "input": [
      "#Distribution of year's mean energy output plot, averaged over 1994 - 2007 years\n",
      "import numpy as np\n",
      "stds = []\n",
      "means = []\n",
      "for i in grouped_month_mean.columns:\n",
      "    plt.plot(grouped_month_mean.index,grouped_month_mean[i])\n",
      "plt.show()"
     ],
     "language": "python",
     "metadata": {},
     "outputs": []
    },
    {
     "cell_type": "code",
     "collapsed": false,
     "input": [
      "#plotting all station numbers as common x axis and produced energy as y axis\n",
      "import matplotlib.pyplot as plt\n",
      "import numpy as np\n",
      "xs = np.array(range(98)).T\n",
      "ys = grouped_month_mean.T\n",
      "plt.plot(xs,ys)\n",
      "plt.show()"
     ],
     "language": "python",
     "metadata": {},
     "outputs": []
    },
    {
     "cell_type": "code",
     "collapsed": false,
     "input": [
      "#Plot fitted straight lines to each quarter in years 1994 - 2007\n",
      "fit = []\n",
      "fit_fn = []\n",
      "for i in range(grouped_quarter_mean.shape[0]):\n",
      "    fit = np.polyfit(range(98),grouped_quarter_mean.iloc[i,:],1)\n",
      "    fit_fn = np.poly1d(fit)\n",
      "    plt.plot(X,fit_fn(X))\n"
     ],
     "language": "python",
     "metadata": {},
     "outputs": []
    },
    {
     "cell_type": "code",
     "collapsed": false,
     "input": [
      "#Plots scatterplot of a given quarter (the first one in this cast)\n",
      "# and a fitted straight line\n",
      "y = grouped_quarter_mean.iloc[0,:].values\n",
      "fit = np.polyfit(range(98),grouped_quarter_mean.iloc[0,:],1)\n",
      "fit_fn = np.poly1d(fit)\n",
      "plt.plot(X,fit_fn(X),'--k',X,y,'yo')\n"
     ],
     "language": "python",
     "metadata": {},
     "outputs": []
    }
   ],
   "metadata": {}
  }
 ]
}